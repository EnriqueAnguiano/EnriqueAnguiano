{
 "cells": [
  { 
   "cell_type": "markdown",
   "id": "ab326c4e-ec19-445f-b7b4-37033812e31e",
   "metadata": {},
   "source": [
    "<h1>Creación de cadenas de ADN</h1>\n",
    "<p>A partir del nucleótido anterior (A-> Adenina, C-> Citosina, G-> Guanina, T-> Timina) sacar el el siguiente nucleótido a partir de sus probabilidades dadas, que podemos representar en un circuito cuántico de la siguiente manera:\n",
    "    \n",
    "- |A> -> 0.2|A>+0.3|C>+0.3|G>+0.2|T>\n",
    "- |C> -> 0.1|A>+0.41|C>+0.39|G>+0.1|T>\n",
    "- |G> -> 0,25|A>+0.25|C>+0.25|G>+0.25|T>\n",
    "- |T> -> 0.5|A>+0.17|C>+0.17|G>+0.17|T>\n",
    "    \n",
    "En este circuito vamos a declarar A -> 00 , C -> 01 , G -> 10, T -> 11\n",
    "</p>"
   ]
  },
  {
   "cell_type": "code",
   "execution_count": 1,
   "id": "f4fd80cc-ca61-4dfc-8eae-f884d77d63aa",
   "metadata": {},
   "outputs": [],
   "source": [
    "from qiskit import *\n",
    "from qiskit.visualization import plot_histogram\n",
    "import numpy as np\n",
    "\n",
    "#INPUTS\n",
    "tripletes=10\n",
    "phi =\"00\" #Primer nucleótido. Únicos valores permitidos: 00,01,10,11\n",
    "n_cadenas=1"
   ]
  },
  {
   "cell_type": "code",
   "execution_count": 2,
   "id": "a28c0c73-3edf-4f13-8bd8-5dc132063b37",
   "metadata": {},
   "outputs": [],
   "source": [
    "def circA(): #0.2|A>+0.3|C>+0.3|G>+0.2|T>\n",
    "    circ = QuantumCircuit(2)\n",
    "    circ.h(1)\n",
    "    circ.crx(0.556*np.pi,1,0)\n",
    "    circ.x(1)\n",
    "    circ.crx(0.435*np.pi,1,0)\n",
    "    gate = circ.to_gate()\n",
    "    gate.name = \"A\"\n",
    "    gate = gate.control(2)\n",
    "    return gate"
   ]
  },
  {
   "cell_type": "code",
   "execution_count": 3,
   "id": "fb5724b2-f351-40e8-a4b6-51efc389e5ac",
   "metadata": {},
   "outputs": [],
   "source": [
    "def circC():#0.1|A>+0.41|C>+0.39|G>+0.1|T>\n",
    "    circ = QuantumCircuit(2)\n",
    "    circ.h(1)\n",
    "    circ.crx(0.705*np.pi,1,0)\n",
    "    circ.x(1)\n",
    "    circ.crx(0.3*np.pi,1,0)\n",
    "    \n",
    "    gate = circ.to_gate()\n",
    "    gate.name = \"C\"\n",
    "    gate = gate.control(2)\n",
    "    return gate"
   ]
  },
  {
   "cell_type": "code",
   "execution_count": 4,
   "id": "fe5c0577-a684-4142-8f0c-ce1377344c4c",
   "metadata": {},
   "outputs": [],
   "source": [
    "def circG():#0,25|A>+0.25|C>+0.25|G>+0.25|T>\n",
    "    circ = QuantumCircuit(2)\n",
    "    circ.h(range(2))\n",
    "    \n",
    "    gate = circ.to_gate()\n",
    "    gate.name = \"G\"\n",
    "    gate = gate.control(2)\n",
    "    return gate"
   ]
  },
  {
   "cell_type": "code",
   "execution_count": 5,
   "id": "39875bd3-2729-415d-97c2-5ce5c8046216",
   "metadata": {},
   "outputs": [],
   "source": [
    "def circT():#0.5|A>+0.17|C>+0.17|G>+0.17|T>\n",
    "    circ = QuantumCircuit(2)\n",
    "    circ.h(0)\n",
    "    circ.crx(0.608*np.pi,0,1)\n",
    "    circ.crx(np.pi/2,1,0) # o la puerta sqrt(x)\n",
    "    \n",
    "    gate = circ.to_gate()\n",
    "    gate.name = \"T\"\n",
    "    gate = gate.control(2)\n",
    "    return gate"
   ]
  },
  {
   "cell_type": "code",
   "execution_count": 6,
   "id": "819c219e-191e-4857-a192-c4dcdca67ddf",
   "metadata": {},
   "outputs": [],
   "source": [
    "def bin_letra(bin):\n",
    "    string = \"\"\n",
    "    if bin == \"00\":\n",
    "        string = \"A\"\n",
    "    if bin == \"01\":\n",
    "        string =\"C\"\n",
    "    if bin == \"10\":\n",
    "        string =\"G\"\n",
    "    if bin == \"11\":\n",
    "        string =\"T\"\n",
    "    return string"
   ]
  },
  {
   "cell_type": "code",
   "execution_count": 7,
   "id": "0e358a4a-aa9d-4555-90df-f68639af7dee",
   "metadata": {},
   "outputs": [],
   "source": [
    "def asignarDatos(phi):\n",
    "    circ = QuantumCircuit(2)\n",
    "    pos=0\n",
    "    for i in phi:\n",
    "        if i==\"1\":\n",
    "            circ.x(pos)\n",
    "        pos = pos+1\n",
    "    gate = circ.to_gate()\n",
    "    gate.name=\"Datos\"\n",
    "    return gate"
   ]
  },
  {
   "cell_type": "code",
   "execution_count": 8,
   "id": "c6b1dca9-6282-4ee9-85f3-c7e26cd1f914",
   "metadata": {},
   "outputs": [],
   "source": [
    "#IMPORTANTE: Este circuito sigue teniendo en cuenta la probabilidad del qubit anterior, n\n",
    "circ = QuantumCircuit(4,6*tripletes+1) #dará un error enorme si lo mando a un ordenador real (circuito demasiado grande). Mejor un circ con cambio de input (pero habría que modificarlo entre shots)\n",
    "circ.append(asignarDatos(phi),(0,1))\n",
    "circ.barrier(range(4))\n",
    "for i in range(tripletes*3):\n",
    "    circ.x(range(2))\n",
    "    circ.append(circA(),range(4))\n",
    "    circ.x(0)\n",
    "    circ.append(circC(),range(4))\n",
    "    circ.x(range(2))\n",
    "    circ.append(circG(),range(4))\n",
    "    circ.x(1)\n",
    "    circ.append(circT(),range(4))\n",
    "    circ.reset(0)\n",
    "    circ.reset(1)\n",
    "    circ.cx(2,0)\n",
    "    circ.cx(3,1)\n",
    "    circ.measure([2,3],[2*i,2*i+1])\n",
    "    circ.reset(2)\n",
    "    circ.reset(3)\n",
    "    circ.barrier(range(4))"
   ]
  },
  {
   "cell_type": "code",
   "execution_count": null,
   "id": "c69fcdda-f05b-42a9-98de-7c1441f8cc7b",
   "metadata": {},
   "outputs": [],
   "source": [
    "backend = Aer.get_backend(\"qasm_simulator\")\n",
    "string = \"\"\n",
    "job = execute(circ, backend, shots = n_cadenas, memory=True)\n",
    "data = job.result().get_memory()\n",
    "print(data)"
   ]
  },
  {
   "cell_type": "code",
   "execution_count": null,
   "id": "7e051ff2-e026-4d88-aa87-cf4e65e46765",
   "metadata": {},
   "outputs": [],
   "source": [
    "output = \"\"\n",
    "for i in range(n_cadenas):\n",
    "    for j in range(len(data[i])//2):\n",
    "        binario = data[0][2*j:2*j+2]\n",
    "        output = output + bin_letra(binario)\n",
    "        if j%3==2:\n",
    "            output = output + \"-\"\n",
    "    print(output)"
   ]
  },
  {
   "cell_type": "code",
   "execution_count": null,
   "id": "835d37fd-e8c6-46a7-b495-dd9abbbcba9d",
   "metadata": {},
   "outputs": [],
   "source": []
  },
  {
   "cell_type": "code",
   "execution_count": null,
   "id": "5c5c3c79-753d-4182-861c-d13d1392cc7e",
   "metadata": {},
   "outputs": [],
   "source": []
  },
  {
   "cell_type": "code",
   "execution_count": null,
   "id": "275320f1-c1a2-454b-936d-ef5e8de82f44",
   "metadata": {},
   "outputs": [],
   "source": []
  }
 ],
 "metadata": {
  "kernelspec": {
   "display_name": "Python 3 (ipykernel)",
   "language": "python",
   "name": "python3"
  },
  "language_info": {
   "codemirror_mode": {
    "name": "ipython",
    "version": 3
   },
   "file_extension": ".py",
   "mimetype": "text/x-python",
   "name": "python",
   "nbconvert_exporter": "python",
   "pygments_lexer": "ipython3",
   "version": "3.9.12"
  }
 },
 "nbformat": 4,
 "nbformat_minor": 5
}
