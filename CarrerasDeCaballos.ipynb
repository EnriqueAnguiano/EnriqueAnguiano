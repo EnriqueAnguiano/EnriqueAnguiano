{
 "cells": [
  { 
   "cell_type": "markdown",
   "id": "f4f1e594-f080-4d08-b0e7-18ad6b68b75d",
   "metadata": {},
   "source": [
    "<h1>Carrera de caballos (QC)</h1>\n",
    "<p>Estamos en un hipódromo donde corren carreras de 5 caballos a la\n",
    "vez. Cada caballo tiene un nombre y una posición de 1 a 5.\n",
    "Antes de empezar la carrera se nos pedirá que apostemos por un\n",
    "caballo.\n",
    "    \n",
    "La carrera consiste en correr 700 metros, el primer caballo que corra\n",
    "esos 700 metros ganará la carrera.\n",
    "El procedimiento de la carrera será el siguiente:\n",
    "- La carrera se correrá por tramos, cada pulsación de la tecla\n",
    "ENTER por parte del usuario será un tramo.\n",
    "- En cada tramo cada caballo puede correr un número aleatorio\n",
    "de 50, 60, 70 u 80 metros.\n",
    "- Cada tramo se retransmitirá al usuario.\n",
    "- Los caballos tienen una posibilidad de 1/15 de caerse en cada\n",
    "tramo.\n",
    "</p>"
   ]
  },
  {
   "cell_type": "code",
   "execution_count": 1,
   "id": "7d1bc8cf-d2a3-4968-aee7-226d2026c8e2",
   "metadata": {},
   "outputs": [],
   "source": [
    "from qiskit import QuantumCircuit, Aer, execute\n",
    "from qiskit.visualization import plot_histogram\n",
    "import numpy as np"
   ]
  },
  {
   "cell_type": "code",
   "execution_count": 2,
   "id": "23dccfa1-9d0c-4f61-87f0-8eaaff02909b",
   "metadata": {},
   "outputs": [
    {
     "data": {
      "image/png": "[encoded data removed]",
      "text/plain": [
       "<Figure size 478.079x264.88 with 1 Axes>"
      ]
     },
     "execution_count": 2,
     "metadata": {},
     "output_type": "execute_result"
    }
   ],
   "source": [
    "circ = QuantumCircuit(3)\n",
    "circ.h(range(2))\n",
    "circ.rx(np.arccos(14/15),2)\n",
    "circ.x(2)\n",
    "circ.measure_all()\n",
    "circ.draw(output = 'mpl')"
   ]
  },
  {
   "cell_type": "code",
   "execution_count": 3,
   "id": "2aae08fd-2b1e-446d-b2bb-ea20b8bf2f64",
   "metadata": {},
   "outputs": [],
   "source": [
    "class Caballo:\n",
    "    def __init__(self, nombre, dorsal):\n",
    "        self.nombre = nombre\n",
    "        self.dorsal = dorsal\n",
    "        self.distancia = 0\n",
    "        \n",
    "    def setDistancia(self,aumento):\n",
    "        self.distancia = aumento + self.distancia\n",
    "        \n",
    "    def toString(self):\n",
    "        return self.nombre+\" con el numero \"+str(self.dorsal)+\" (\"+str(self.distancia)+\")\""
   ]
  },
  {
   "cell_type": "code",
   "execution_count": 4,
   "id": "56d43095-6df1-4bbf-9b1a-01d8902d3bcd",
   "metadata": {},
   "outputs": [],
   "source": [
    "nombres = ['Estela','Luna','Sidra','Tormenta','Rucio']\n",
    "dorsales = [1,2,3,4,5]\n",
    "caballos = []\n",
    "for i in range(5):\n",
    "    caballo = Caballo(nombres[i],dorsales[i])\n",
    "    caballos.append(caballo)"
   ]
  },
  {
   "cell_type": "code",
   "execution_count": 5,
   "id": "73d26244-69b9-435f-93ce-8223e221bbf0",
   "metadata": {},
   "outputs": [],
   "source": [
    "def prob(circ):\n",
    "    backend = Aer.get_backend(\"qasm_simulator\")\n",
    "    job = execute(circ, backend, shots = 1) #Solo un shot (quiero solo el valor dado tras la probabilidad)\n",
    "    data = job.result().get_counts()\n",
    "    return data"
   ]
  },
  {
   "cell_type": "code",
   "execution_count": 6,
   "id": "3d76513c-e36b-49cc-b220-6cc9fb4bf39f",
   "metadata": {},
   "outputs": [
    {
     "name": "stdout",
     "output_type": "stream",
     "text": [
      "Estela con el numero 1 (60)\n",
      "Luna con el numero 2 (60)\n",
      "Sidra con el numero 3 (80)\n",
      "Tormenta con el numero 4 (80)\n",
      "Rucio con el numero 5 (50)\n"
     ]
    }
   ],
   "source": [
    "for k in range(5):\n",
    "    data = prob(circ)\n",
    "    distancia=0\n",
    "    for i in data.keys(): #Solo es uno por cada (un solo shot), pero así me permite jugar con la clave (lo importante)\n",
    "        haCaido = int(i[0:1])\n",
    "        str_decimal = i[1:3]\n",
    "        decimal=0\n",
    "        pos=1\n",
    "        for j in str_decimal:\n",
    "            decimal = int(j)*pow(2,pos)+decimal\n",
    "            pos-=1\n",
    "        distancia = 10*haCaido*(decimal+5)\n",
    "        caballos[k].setDistancia(distancia)\n",
    "        print(caballos[k].toString())"
   ]
  },
  {
   "cell_type": "code",
   "execution_count": null,
   "id": "d2a46393-7dab-4c3a-8d71-932792f2c824",
   "metadata": {},
   "outputs": [],
   "source": []
  },
  {
   "cell_type": "code",
   "execution_count": null,
   "id": "16d27f22-e187-4f34-8146-b9ebdb9df00b",
   "metadata": {},
   "outputs": [],
   "source": []
  }
 ],
 "metadata": {
  "kernelspec": {
   "display_name": "Python 3 (ipykernel)",
   "language": "python",
   "name": "python3"
  },
  "language_info": {
   "codemirror_mode": {
    "name": "ipython",
    "version": 3
   },
   "file_extension": ".py",
   "mimetype": "text/x-python",
   "name": "python",
   "nbconvert_exporter": "python",
   "pygments_lexer": "ipython3",
   "version": "3.9.12"
  }
 },
 "nbformat": 4,
 "nbformat_minor": 5
}
