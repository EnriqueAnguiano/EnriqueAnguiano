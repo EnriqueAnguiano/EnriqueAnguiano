{
 "cells": [
  {
   "cell_type": "markdown",
   "id": "eb7aa490-3d7f-42f1-bf32-240932e25219",
   "metadata": {},
   "source": [
    "<h1>(QC) Codigo KNN</h1>\n",
    "<p>Codigo de KNN básico</p>"
   ]
  },
  {
   "cell_type": "code",
   "execution_count": 7,
   "id": "15c9436f-45ef-48b5-a1ff-4ce09357aa03",
   "metadata": {},
   "outputs": [],
   "source": [
    "import pennylane as qml\n",
    "import matplotlib.pyplot as plt\n",
    "from pennylane import numpy as np "
   ]
  },
  {
   "cell_type": "code",
   "execution_count": 8,
   "id": "00ea6ea7-a5d6-4e4a-bf04-001f4c4e14d4",
   "metadata": {},
   "outputs": [
    {
     "data": {
      "image/png": "[encoded data removed]",
      "text/plain": [
       "<Figure size 432x288 with 1 Axes>"
      ]
     },
     "metadata": {
      "needs_background": "light"
     },
     "output_type": "display_data"
    }
   ],
   "source": [
    "np.random.seed(42)\n",
    "\n",
    "n_samples = 200\n",
    "\n",
    "#Datos de entrenamiento\n",
    "A_train = np.array([[np.random.normal(loc=-0.3), np.random.normal(loc=0.5)] for i in range(n_samples//4)]) \n",
    "B_train = np.array([[np.random.normal(loc=0.3), np.random.normal(loc=-0.5)] for i in range(n_samples//4)]) \n",
    "\n",
    "train_labels = [\"A\"] * (n_samples // 4) + [\"B\"] * (n_samples // 4)\n",
    "\n",
    "# Datos de test\n",
    "A_test = np.array([[np.random.normal(loc=-0.3), np.random.normal(loc=0.5)] for i in range(n_samples//4)]) \n",
    "B_test = np.array([[np.random.normal(loc=0.3), np.random.normal(loc=-0.5)] for i in range(n_samples//4)]) \n",
    "\n",
    "test_labels = [\"A\"] * (n_samples // 4) + [\"B\"] * (n_samples // 4)\n",
    "\n",
    "plt.scatter(B_train[:,0], B_train[:,1], color = \"orange\")\n",
    "plt.scatter(A_train[:,0], A_train[:,1], color = \"blue\")\n",
    "\n",
    "plt.show()"
   ]
  },
  {
   "cell_type": "code",
   "execution_count": 9,
   "id": "c0ed1ca9-7ce9-440e-a103-0d446ec6eec5",
   "metadata": {},
   "outputs": [],
   "source": [
    "def featureMap(x,wires):\n",
    "    qml.RY(x[0],wires[0])\n",
    "    qml.RY(x[1],wires[1])"
   ]
  },
  {
   "cell_type": "code",
   "execution_count": 13,
   "id": "327c05fe-3c13-441a-a4a1-5f6a9e3d3b88",
   "metadata": {},
   "outputs": [],
   "source": [
    "dev = qml.device(\"default.qubit\",5)\n",
    "@qml.qnode(dev)\n",
    "def swap_test(x1,x2):\n",
    "    featureMap(x1,wires = [1,2])\n",
    "    featureMap(x2,wires = [3,4])\n",
    "    \n",
    "    qml.Hadamard(0)\n",
    "    qml.CSWAP(wires = [0,1,3])\n",
    "    qml.CSWAP(wires = [0,2,4])\n",
    "    qml.Hadamard(0)\n",
    "    \n",
    "    return qml.expval(qml.PauliZ(0))"
   ]
  },
  {
   "cell_type": "code",
   "execution_count": 14,
   "id": "fe0c7a4d-6103-4b99-832e-1c73eb8c35e2",
   "metadata": {},
   "outputs": [
    {
     "data": {
      "text/plain": [
       "tensor(1.09554785, requires_grad=True)"
      ]
     },
     "execution_count": 14,
     "metadata": {},
     "output_type": "execute_result"
    }
   ],
   "source": [
    "def distance(x1,x2):\n",
    "    return 2-2*swap_test(x1,x2)\n",
    "distance(A_train[0],A_train[1])"
   ]
  },
  {
   "cell_type": "code",
   "execution_count": null,
   "id": "0bab1eb8-065b-4b9c-a7e8-1a5245a45252",
   "metadata": {},
   "outputs": [],
   "source": [
    "from sklearn.neighbors import KNeighborsClassifier\n",
    "neigh = KNeighborsClassifier(n_neighbors=3,metric=distance)\n",
    "neigh.fit(np.concatenate([A_train,B_train]),train_labels)\n",
    "neigh.score(np.concatenate([A_test,B_test]), test_labels)"
   ]
  },
  {
   "cell_type": "code",
   "execution_count": null,
   "id": "89589ba0-f145-4bae-8b60-aa106386c72e",
   "metadata": {},
   "outputs": [],
   "source": []
  }
 ],
 "metadata": {
  "kernelspec": {
   "display_name": "Python 3 (ipykernel)",
   "language": "python",
   "name": "python3"
  },
  "language_info": {
   "codemirror_mode": {
    "name": "ipython",
    "version": 3
   },
   "file_extension": ".py",
   "mimetype": "text/x-python",
   "name": "python",
   "nbconvert_exporter": "python",
   "pygments_lexer": "ipython3",
   "version": "3.9.12"
  }
 },
 "nbformat": 4,
 "nbformat_minor": 5
}
